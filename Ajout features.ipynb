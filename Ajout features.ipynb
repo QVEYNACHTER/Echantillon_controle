{
 "cells": [
  {
   "cell_type": "code",
   "execution_count": null,
   "metadata": {},
   "outputs": [],
   "source": [
    "#Librairies nécessaires\n",
    "import numpy as np\n",
    "import pandas as pd\n",
    "pd.set_option('display.max_columns', None)"
   ]
  },
  {
   "cell_type": "code",
   "execution_count": null,
   "metadata": {},
   "outputs": [],
   "source": [
    "#Charge le fichier1\n",
    "\n",
    "#############################################################\n",
    "#############################################################\n",
    "fichier1 = pd.read_excel('data/input_fichier1.xlsx') #Il faudra changer le chemin et/ou le nom du fichier ici d'un mois/trimestre/année à l'autre\n",
    "#############################################################\n",
    "#############################################################\n",
    "\n",
    "fichier1"
   ]
  },
  {
   "cell_type": "code",
   "execution_count": null,
   "metadata": {},
   "outputs": [],
   "source": [
    "#Charge le fichier2\n",
    "fichier2 = pd.read_excel('data/input_fichier2.xlsx')\n",
    "fichier2.rename(columns={'Col1':'Nséquence'}, inplace=True)\n",
    "fichier2['Combi'] = 363\n",
    "fichier2"
   ]
  },
  {
   "cell_type": "code",
   "execution_count": null,
   "metadata": {},
   "outputs": [],
   "source": [
    "#Charge le fichier3\n",
    "fichier3 = pd.read_excel('data/input_fichier3.xlsx')\n",
    "fichier3 = fichier3[:-1]\n",
    "fichier3['Col1'] = fichier3['Col1'].astype(int)\n",
    "fichier3.rename(columns={'Col1':'Nséquence', 'Col4':'Deleg'}, inplace=True)\n",
    "fichier3"
   ]
  },
  {
   "cell_type": "code",
   "execution_count": null,
   "metadata": {},
   "outputs": [],
   "source": [
    "#Charge fichier4 et fichier5\n",
    "#Elles serviront à créer la colonne 'Tremb'\n",
    "fichier4 = pd.read_excel('data/input_fichier4.xlsx')\n",
    "fichier4.rename(columns={'Col1':'Nséquence'}, inplace=True)\n",
    "fichier4['Freg'] = 'O'\n",
    "display(fichier4)\n",
    "fichier5 = pd.read_excel('data/input_fichier5.xlsx')\n",
    "fichier5.rename(columns={'Col1':'Nséquence'}, inplace=True)\n",
    "fichier5['Ffra'] = 'O'\n",
    "display(fichier5)"
   ]
  },
  {
   "cell_type": "code",
   "execution_count": null,
   "metadata": {},
   "outputs": [],
   "source": [
    "#Charge le fichier6\n",
    "fichier6 = pd.read_csv('data/input_fichier6.csv')\n",
    "fichier6.rename(columns={'Col2':'Pexecution', 'Col3':'Cregion'}, inplace=True)\n",
    "fichier6"
   ]
  },
  {
   "cell_type": "code",
   "execution_count": null,
   "metadata": {},
   "outputs": [],
   "source": [
    "#On effectue les jointures\n",
    "test = (\n",
    "    fichier1\n",
    "    .merge(fichier2, on='Nséquence', how='left')\n",
    "    .merge(fichier3, on='Nséquence', how='left')\n",
    "    .merge(fichier4, on='Nséquence', how='left')\n",
    "    .merge(fichier5, on ='Nséquence', how='left')\n",
    "    .merge(fichier6, on='Pexecution', how='left')\n",
    ")\n",
    "\n",
    "test"
   ]
  },
  {
   "cell_type": "code",
   "execution_count": null,
   "metadata": {},
   "outputs": [],
   "source": [
    "#On vérifie pour quels pays le Cregion est vide\n",
    "test.loc[test['Cregion'].isna()]['Pexecution'].unique()"
   ]
  },
  {
   "cell_type": "code",
   "execution_count": null,
   "metadata": {},
   "outputs": [],
   "source": [
    "#Il ne s'agit que de la France donc on remplace les valeurs manquantes par 0\n",
    "test['Cregion'] = test['Cregion'].fillna(0).astype(int)\n",
    "test"
   ]
  },
  {
   "cell_type": "code",
   "execution_count": null,
   "metadata": {},
   "outputs": [],
   "source": [
    "#Liste des actes\n",
    "liste_actes = ['Liste des actes']\n",
    "\n",
    "#On ajoute la colonne vide 'Tremb' en avant-dernière position\n",
    "test.insert(len(test.columns)-1, 'Tremb', None)\n",
    "\n",
    "#Fonction pour appliquer la logique dans la nouvelle colonne\n",
    "def assign_type(row):\n",
    "    if row['Freg'] == 'O' and row['Cacte'] not in liste_actes:\n",
    "        return 'Régularisation'\n",
    "    elif row['Ffra'] == 'O' and row['Cacte'] in liste_actes:\n",
    "        return 'Franchises'\n",
    "    elif pd.isna(row['Tremb']) and row['Cacte'] not in liste_actes:\n",
    "        return 'Remboursement'\n",
    "    else:\n",
    "        return None  #Si aucune condition n'est remplie, la cellule reste vide\n",
    "    \n",
    "#On applique puis on retire les colonnes Flag qui sont désormais inutiles\n",
    "test['Tremb'] = test.apply(assign_type, axis=1)\n",
    "test.drop(['Freg', 'Ffra'], axis=1, inplace=True)\n",
    "test"
   ]
  },
  {
   "cell_type": "code",
   "execution_count": null,
   "metadata": {},
   "outputs": [],
   "source": [
    "#On change le type de la colonne Combi de float à int\n",
    "test['Combi'] = test['Combi'].astype('Int64')\n",
    "test = test.iloc[:, -4:]\n",
    "test"
   ]
  },
  {
   "cell_type": "code",
   "execution_count": null,
   "metadata": {},
   "outputs": [],
   "source": [
    "#Afin d'éviter d'exporter tout le tableau (processus assez long), on n'exporte que les 4 dernières colonnes qu'on pourra copier/coller pour ajouter à la requête (+ ou - 10 secondes)\n",
    "\n",
    "#############################################################\n",
    "#############################################################\n",
    "test.to_excel('data/output_fichier.xlsx', index=False) #Il faudra changer le chemin d'enregistrement d'un trimestre/année à l'autre\n",
    "#############################################################\n",
    "#############################################################"
   ]
  }
 ],
 "metadata": {
  "kernelspec": {
   "display_name": "Python 3 (ipykernel)",
   "language": "python",
   "name": "python3"
  },
  "language_info": {
   "codemirror_mode": {
    "name": "ipython",
    "version": 3
   },
   "file_extension": ".py",
   "mimetype": "text/x-python",
   "name": "python",
   "nbconvert_exporter": "python",
   "pygments_lexer": "ipython3",
   "version": "3.12.3"
  }
 },
 "nbformat": 4,
 "nbformat_minor": 4
}
