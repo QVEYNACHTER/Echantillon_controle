{
 "cells": [
  {
   "cell_type": "code",
   "execution_count": null,
   "metadata": {},
   "outputs": [],
   "source": [
    "#Librairies nécessaires\n",
    "import numpy as np\n",
    "import pandas as pd\n",
    "pd.set_option('display.max_columns', None)"
   ]
  },
  {
   "cell_type": "code",
   "execution_count": null,
   "metadata": {},
   "outputs": [],
   "source": [
    "#Charge le mois en cours\n",
    "\n",
    "#############################################################\n",
    "#############################################################\n",
    "mois = pd.read_excel(\"../2025/T1/Requete PC_AC_2025_01.xlsx\", sheet_name=0) #Il faudra changer le chemin et/ou le nom du fichier ici d'un mois/trimestre/année à l'autre\n",
    "#############################################################\n",
    "#############################################################\n",
    "\n",
    "mois"
   ]
  },
  {
   "cell_type": "code",
   "execution_count": null,
   "metadata": {},
   "outputs": [],
   "source": [
    "#Charge combi.xlsx\n",
    "combi363 = pd.read_excel('../Extractions/combi 363.xlsx', sheet_name=0)\n",
    "combi363.rename(columns={'DCS_SEQ':'Numéro de séquence'}, inplace=True)\n",
    "combi363['Combi'] = 363\n",
    "combi363"
   ]
  },
  {
   "cell_type": "code",
   "execution_count": null,
   "metadata": {},
   "outputs": [],
   "source": [
    "#Charge delegation.xlsx\n",
    "delegation = pd.read_excel('../Extractions/delegation.xlsx', sheet_name=0)\n",
    "delegation = delegation[:-1]\n",
    "delegation['DCS_SEQ'] = delegation['DCS_SEQ'].astype(int)\n",
    "delegation.rename(columns={'DCS_SEQ':'Numéro de séquence', 'DLG_COD':'Délégation'}, inplace=True)\n",
    "delegation"
   ]
  },
  {
   "cell_type": "code",
   "execution_count": null,
   "metadata": {},
   "outputs": [],
   "source": [
    "#Charge regul.xlsx et franchise.xlsx\n",
    "#Elles serviront à créer la colonne \"Type de remboursement\"\n",
    "regul = pd.read_excel('../Extractions/regul.xlsx', sheet_name=0)\n",
    "regul.rename(columns={'DCS_SEQ':'Numéro de séquence'}, inplace=True)\n",
    "regul['Flag regul'] = 'O'\n",
    "display(regul)\n",
    "franchise = pd.read_excel('../Extractions/franchise.xlsx', sheet_name=0)\n",
    "franchise.rename(columns={'DCS_SEQ':'Numéro de séquence'}, inplace=True)\n",
    "franchise['Flag franchise'] = 'O'\n",
    "display(franchise)"
   ]
  },
  {
   "cell_type": "code",
   "execution_count": null,
   "metadata": {},
   "outputs": [],
   "source": [
    "#Charge zpy.csv\n",
    "zpy = pd.read_csv('../Extractions/zpy.csv')\n",
    "zpy.rename(columns={'PAY_NOM':\"Pays d'exécution\", 'ZPY_COD':'Code région'}, inplace=True)\n",
    "zpy"
   ]
  },
  {
   "cell_type": "code",
   "execution_count": null,
   "metadata": {},
   "outputs": [],
   "source": [
    "#On effectue les jointures\n",
    "test = (\n",
    "    mois\n",
    "    .merge(combi363, on='Numéro de séquence', how='left')\n",
    "    .merge(delegation, on='Numéro de séquence', how='left')\n",
    "    .merge(regul, on='Numéro de séquence', how='left')\n",
    "    .merge(franchise, on ='Numéro de séquence', how='left')\n",
    "    .merge(zpy, on=\"Pays d'exécution\", how='left')\n",
    ")\n",
    "\n",
    "test"
   ]
  },
  {
   "cell_type": "code",
   "execution_count": null,
   "metadata": {},
   "outputs": [],
   "source": [
    "#On vérifie pour quels pays le Code région est vide\n",
    "test.loc[test['Code région'].isna()][\"Pays d'exécution\"].unique()"
   ]
  },
  {
   "cell_type": "code",
   "execution_count": null,
   "metadata": {},
   "outputs": [],
   "source": [
    "#Il ne s'agit que de la France donc on remplace les valeurs manquantes par 0\n",
    "test['Code région'] = test['Code région'].fillna(0).astype(int)\n",
    "test"
   ]
  },
  {
   "cell_type": "code",
   "execution_count": null,
   "metadata": {},
   "outputs": [],
   "source": [
    "#Liste des franchises actes\n",
    "franchises_actes = ['FRAM', 'FRPH', 'FRTR', 'FDAM', 'FDPH', 'FDTR']\n",
    "\n",
    "#On ajoute la colonne vide \"Type de remboursement\" en avant-dernière position\n",
    "test.insert(len(test.columns)-1, 'Type de remboursement', None)\n",
    "\n",
    "#Fonction pour appliquer la logique dans la nouvelle colonne\n",
    "def assign_type(row):\n",
    "    if row['Flag regul'] == 'O' and row['Code acte'] not in franchises_actes:\n",
    "        return 'Régularisation'\n",
    "    elif row['Flag franchise'] == 'O' and row['Code acte'] in franchises_actes:\n",
    "        return 'Franchises'\n",
    "    elif pd.isna(row['Type de remboursement']) and row['Code acte'] not in franchises_actes:\n",
    "        return 'Remboursement'\n",
    "    else:\n",
    "        return None  #Si aucune condition n'est remplie, la cellule reste vide\n",
    "    \n",
    "#On applique puis on retire les colonnes Flag qui sont désormais inutiles\n",
    "test['Type de remboursement'] = test.apply(assign_type, axis=1)\n",
    "test.drop(['Flag regul', 'Flag franchise'], axis=1, inplace=True)\n",
    "test"
   ]
  },
  {
   "cell_type": "code",
   "execution_count": null,
   "metadata": {},
   "outputs": [],
   "source": [
    "#On change le type de la colonne Combi de float à int\n",
    "test['Combi'] = test['Combi'].astype('Int64')\n",
    "test = test.iloc[:, -4:]\n",
    "test"
   ]
  },
  {
   "cell_type": "code",
   "execution_count": null,
   "metadata": {},
   "outputs": [],
   "source": [
    "#Afin d'éviter d'exporter tout le tableau (processus assez long), on n'exporte que les 4 dernières colonnes qu'on pourra copier/coller pour ajouter à la requête (+ ou - 10 secondes)\n",
    "\n",
    "#############################################################\n",
    "#############################################################\n",
    "test.to_excel('../2025/T1/combi 363 delegation type_remb et zpy.xlsx', index=False) #Il faudra changer le chemin d'enregistrement d'un trimestre/année à l'autre\n",
    "#############################################################\n",
    "#############################################################"
   ]
  }
 ],
 "metadata": {
  "kernelspec": {
   "display_name": "Python 3 (ipykernel)",
   "language": "python",
   "name": "python3"
  },
  "language_info": {
   "codemirror_mode": {
    "name": "ipython",
    "version": 3
   },
   "file_extension": ".py",
   "mimetype": "text/x-python",
   "name": "python",
   "nbconvert_exporter": "python",
   "pygments_lexer": "ipython3",
   "version": "3.12.3"
  }
 },
 "nbformat": 4,
 "nbformat_minor": 4
}
